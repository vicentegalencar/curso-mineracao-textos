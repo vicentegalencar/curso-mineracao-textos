{
  "nbformat": 4,
  "nbformat_minor": 0,
  "metadata": {
    "colab": {
      "name": "09_DicionarioInvertido.ipynb",
      "provenance": [],
      "authorship_tag": "ABX9TyMWxB7w/OjXxa/Pvml73AJG",
      "include_colab_link": true
    },
    "kernelspec": {
      "name": "python3",
      "display_name": "Python 3"
    }
  },
  "cells": [
    {
      "cell_type": "markdown",
      "metadata": {
        "id": "view-in-github",
        "colab_type": "text"
      },
      "source": [
        "<a href=\"https://colab.research.google.com/github/ufrpe-ensino/curso-mineracao-textos/blob/master/09_DicionarioInvertido.ipynb\" target=\"_parent\"><img src=\"https://colab.research.google.com/assets/colab-badge.svg\" alt=\"Open In Colab\"/></a>"
      ]
    },
    {
      "cell_type": "markdown",
      "metadata": {
        "id": "OuUXvwVtBY4x",
        "colab_type": "text"
      },
      "source": [
        "# Índice Invertido em Python: hashedindex\n",
        "\n",
        "O [hashedindex](https://github.com/MichaelAquilina/hashedindex) é uma biblioteca que implementa uma interface simples para a criação de índices invertidos em python, baseado em dicionários."
      ]
    },
    {
      "cell_type": "code",
      "metadata": {
        "id": "yNGa0X7aBRuJ",
        "colab_type": "code",
        "colab": {}
      },
      "source": [
        "!pip install hashedindex\n",
        "import hashedindex"
      ],
      "execution_count": null,
      "outputs": []
    },
    {
      "cell_type": "markdown",
      "metadata": {
        "id": "nKQ9exbxBxHo",
        "colab_type": "text"
      },
      "source": [
        "## Criando um indice e adicionando documentos"
      ]
    },
    {
      "cell_type": "code",
      "metadata": {
        "id": "-8j0bgqqBuIO",
        "colab_type": "code",
        "colab": {}
      },
      "source": [
        "index = hashedindex.HashedIndex()\n",
        "\n",
        "index.add_term_occurrence('hello', 'teste1')\n",
        "index.add_term_occurrence('world', 'document1.txt')"
      ],
      "execution_count": null,
      "outputs": []
    },
    {
      "cell_type": "markdown",
      "metadata": {
        "id": "M5fzvkyPB2nM",
        "colab_type": "text"
      },
      "source": [
        "## Consultando"
      ]
    },
    {
      "cell_type": "code",
      "metadata": {
        "id": "Cn4NMRTiB0aZ",
        "colab_type": "code",
        "colab": {}
      },
      "source": [
        "index.get_documents('hello')"
      ],
      "execution_count": null,
      "outputs": []
    },
    {
      "cell_type": "code",
      "metadata": {
        "id": "JU3-ls_CB5pq",
        "colab_type": "code",
        "colab": {}
      },
      "source": [
        "index.items()"
      ],
      "execution_count": null,
      "outputs": []
    },
    {
      "cell_type": "code",
      "metadata": {
        "id": "FA8aPwLoB61k",
        "colab_type": "code",
        "colab": {}
      },
      "source": [
        "example = 'The Quick Brown Fox Jumps Over The Lazy Dog'\n",
        "\n",
        "for term in example.split():\n",
        "    index.add_term_occurrence(term, 'document2.txt')"
      ],
      "execution_count": null,
      "outputs": []
    },
    {
      "cell_type": "code",
      "metadata": {
        "id": "f-iYQFTqB9p_",
        "colab_type": "code",
        "colab": {}
      },
      "source": [
        "index.items()"
      ],
      "execution_count": null,
      "outputs": []
    },
    {
      "cell_type": "code",
      "metadata": {
        "id": "O_0GerbbCABE",
        "colab_type": "code",
        "colab": {}
      },
      "source": [
        "index.get_documents('The')"
      ],
      "execution_count": null,
      "outputs": []
    },
    {
      "cell_type": "markdown",
      "metadata": {
        "id": "5mcmguKDCKE_",
        "colab_type": "text"
      },
      "source": [
        "## Parsing de texto\n",
        "\n",
        "O hashedindex inclui um poderoso módulo textparser com métodos para dividir o texto em tokens."
      ]
    },
    {
      "cell_type": "code",
      "metadata": {
        "id": "xzJrYc7rCGZn",
        "colab_type": "code",
        "colab": {}
      },
      "source": [
        "from hashedindex import textparser\n",
        "list(textparser.word_tokenize(\"hello cruel world\"))\n",
        "[('hello',), ('cruel',), ('world',)]"
      ],
      "execution_count": null,
      "outputs": []
    },
    {
      "cell_type": "code",
      "metadata": {
        "id": "yj3X69jCYdBs",
        "colab_type": "code",
        "colab": {}
      },
      "source": [
        ""
      ],
      "execution_count": null,
      "outputs": []
    }
  ]
}