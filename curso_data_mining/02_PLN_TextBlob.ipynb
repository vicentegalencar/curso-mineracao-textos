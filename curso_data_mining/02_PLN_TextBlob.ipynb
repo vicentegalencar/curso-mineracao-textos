{
  "nbformat": 4,
  "nbformat_minor": 0,
  "metadata": {
    "colab": {
      "name": "02_PLN_TextBlob.ipynb",
      "provenance": [],
      "authorship_tag": "ABX9TyNvwnrLsHX8344NwHrK67g9",
      "include_colab_link": true
    },
    "kernelspec": {
      "name": "python3",
      "display_name": "Python 3"
    }
  },
  "cells": [
    {
      "cell_type": "markdown",
      "metadata": {
        "id": "view-in-github",
        "colab_type": "text"
      },
      "source": [
        "<a href=\"https://colab.research.google.com/github/ufrpe-ensino/curso-mineracao-textos/blob/master/02_PLN_TextBlob.ipynb\" target=\"_parent\"><img src=\"https://colab.research.google.com/assets/colab-badge.svg\" alt=\"Open In Colab\"/></a>"
      ]
    },
    {
      "cell_type": "markdown",
      "metadata": {
        "id": "iyv4CEWh6wQR",
        "colab_type": "text"
      },
      "source": [
        "# Instalação"
      ]
    },
    {
      "cell_type": "code",
      "metadata": {
        "id": "uM-mCqmJ6c62",
        "colab_type": "code",
        "colab": {}
      },
      "source": [
        "!pip install textblob\n",
        "import nltk\n",
        "nltk.download('punkt')\n",
        "nltk.download('averaged_perceptron_tagger')\n",
        "nltk.download('brown')"
      ],
      "execution_count": null,
      "outputs": []
    },
    {
      "cell_type": "markdown",
      "metadata": {
        "id": "kViagnNy66_d",
        "colab_type": "text"
      },
      "source": [
        "# Lendo um documento"
      ]
    },
    {
      "cell_type": "code",
      "metadata": {
        "id": "iKBGIuEp66AN",
        "colab_type": "code",
        "colab": {}
      },
      "source": [
        "from textblob import TextBlob\n",
        "\n",
        "blob = TextBlob('aprendendo a usar o TextBlob')\n",
        "blob"
      ],
      "execution_count": null,
      "outputs": []
    },
    {
      "cell_type": "code",
      "metadata": {
        "id": "JjGu224T8AvL",
        "colab_type": "code",
        "colab": {}
      },
      "source": [
        "blob.detect_language()"
      ],
      "execution_count": null,
      "outputs": []
    },
    {
      "cell_type": "markdown",
      "metadata": {
        "id": "doXN9wyX6-Tc",
        "colab_type": "text"
      },
      "source": [
        "POS Tagging"
      ]
    },
    {
      "cell_type": "code",
      "metadata": {
        "id": "06H2o0Ni6-nd",
        "colab_type": "code",
        "colab": {}
      },
      "source": [
        "blob.tags"
      ],
      "execution_count": null,
      "outputs": []
    },
    {
      "cell_type": "markdown",
      "metadata": {
        "id": "IQ7NUZCv6-yA",
        "colab_type": "text"
      },
      "source": [
        "# Correções"
      ]
    },
    {
      "cell_type": "code",
      "metadata": {
        "id": "3gjA1eRx70jZ",
        "colab_type": "code",
        "colab": {}
      },
      "source": [
        "b = TextBlob(\"I havv goood speling!\")\n",
        "print(b.correct())"
      ],
      "execution_count": null,
      "outputs": []
    },
    {
      "cell_type": "markdown",
      "metadata": {
        "id": "YZXjd5Kl8xeg",
        "colab_type": "text"
      },
      "source": [
        "# Traduções"
      ]
    },
    {
      "cell_type": "code",
      "metadata": {
        "id": "rYeeaV3W8zaa",
        "colab_type": "code",
        "colab": {}
      },
      "source": [
        "b.translate(to=\"pt\")"
      ],
      "execution_count": null,
      "outputs": []
    },
    {
      "cell_type": "markdown",
      "metadata": {
        "id": "Dfiq6oZu8ub-",
        "colab_type": "text"
      },
      "source": [
        "# Análise de Sentimentos\n",
        "A análise de sentimento retorna dois parâmetros:\n",
        "\n",
        "```\n",
        "-POLARITY - é um valor contínuo que varia de -1.0 a 1.0, sendo -1.0 referente a 100% negativo e 1.0 a 100% positivo.\n",
        "\n",
        "-SUBJECTIVITY - que também é um valor contínuo que varia de 0.0 a 1.0, sendo 0.0 referente a 100% objetivo e 1.0 a 100% subjetivo.\n",
        "```"
      ]
    },
    {
      "cell_type": "code",
      "metadata": {
        "id": "7p0VnZNi9AKH",
        "colab_type": "code",
        "colab": {}
      },
      "source": [
        "blob = TextBlob('eu odeio programar!')\n",
        "blob_en = blob.translate(to='en')\n",
        "blob_en.sentiment"
      ],
      "execution_count": null,
      "outputs": []
    },
    {
      "cell_type": "markdown",
      "metadata": {
        "id": "7U4UCmTY9iCw",
        "colab_type": "text"
      },
      "source": [
        "# Exercício 1\n",
        "\n",
        "Leia o dataset de review do IMDb no link abaixo, e calcule a taxa de acerto entre as avaliações preditas pelo TextBlob, e os rótulos da base de dados."
      ]
    },
    {
      "cell_type": "code",
      "metadata": {
        "id": "p0t4Gx8g9B1T",
        "colab_type": "code",
        "colab": {}
      },
      "source": [
        "import pandas as pd\n",
        "\n",
        "resenhas = pd.read_csv(\"https://github.com/LawrenceDuan/IMDb-Review-Analysis/blob/master/IMDb_Reviews.csv?raw=true\")[0:100]\n",
        "print(resenhas.shape)\n",
        "resenhas.head()"
      ],
      "execution_count": null,
      "outputs": []
    },
    {
      "cell_type": "code",
      "metadata": {
        "id": "Kqn6jLCc-WfH",
        "colab_type": "code",
        "colab": {}
      },
      "source": [
        "# sua resposta\n"
      ],
      "execution_count": null,
      "outputs": []
    },
    {
      "cell_type": "markdown",
      "metadata": {
        "id": "bka_Soe3CpLk",
        "colab_type": "text"
      },
      "source": [
        "# Exercício 2\n",
        "\n",
        "Utilize o TextBlob para traduzir o texto para português. Qual a taxa de acerto nesse caso?"
      ]
    },
    {
      "cell_type": "code",
      "metadata": {
        "id": "kKUM5QU0Cd_g",
        "colab_type": "code",
        "colab": {}
      },
      "source": [
        "# sua resposta\n"
      ],
      "execution_count": null,
      "outputs": []
    }
  ]
}