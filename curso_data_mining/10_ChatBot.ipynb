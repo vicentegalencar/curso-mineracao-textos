{
  "nbformat": 4,
  "nbformat_minor": 0,
  "metadata": {
    "colab": {
      "name": "10_ChatBot.ipynb",
      "provenance": []
    },
    "kernelspec": {
      "name": "python3",
      "display_name": "Python 3"
    }
  },
  "cells": [
    {
      "cell_type": "markdown",
      "metadata": {
        "id": "gwjN-6Cgueuo",
        "colab_type": "text"
      },
      "source": [
        "# Chatbot conversacional\n",
        "## Projeto ChatterBot\n",
        "Framework para construção de chatbots, com corpus de diálogos simples em diversos idiomas. https://github.com/gunthercox/ChatterBot\n",
        "\n",
        "Neste demo, utilizaremos o próprio framework para 'treinar' um chatbot básico, utilizando um corpus incluido no projeto paralelo https://github.com/gunthercox/chatterbot-corpus/"
      ]
    },
    {
      "cell_type": "code",
      "metadata": {
        "id": "xs5SSdZCq7yt",
        "colab_type": "code",
        "colab": {}
      },
      "source": [
        "!pip install chatterbot\n",
        "!pip install chatterbot-corpus"
      ],
      "execution_count": null,
      "outputs": []
    },
    {
      "cell_type": "markdown",
      "metadata": {
        "id": "HAr8-xv9vyUs",
        "colab_type": "text"
      },
      "source": [
        "## Importando e treinando um chatterbot para português"
      ]
    },
    {
      "cell_type": "code",
      "metadata": {
        "id": "d8J677v9q9Zs",
        "colab_type": "code",
        "colab": {}
      },
      "source": [
        "from chatterbot import ChatBot\n",
        "from chatterbot.trainers import ChatterBotCorpusTrainer\n",
        "\n",
        "chatbot = ChatBot('José da Silva')\n",
        "\n",
        "# Create a new trainer for the chatbot\n",
        "trainer = ChatterBotCorpusTrainer(chatbot)\n",
        "trainer.train(\"chatterbot.corpus.portuguese\")"
      ],
      "execution_count": null,
      "outputs": []
    },
    {
      "cell_type": "code",
      "metadata": {
        "id": "PNp4yUH_rYGw",
        "colab_type": "code",
        "colab": {}
      },
      "source": [
        "chatbot.get_response('oi')"
      ],
      "execution_count": null,
      "outputs": []
    },
    {
      "cell_type": "code",
      "metadata": {
        "id": "k89FvyPxsWPg",
        "colab_type": "code",
        "colab": {}
      },
      "source": [
        "chatbot.get_response('boa noite')"
      ],
      "execution_count": null,
      "outputs": []
    },
    {
      "cell_type": "code",
      "metadata": {
        "id": "hwiPRbHbt43W",
        "colab_type": "code",
        "colab": {}
      },
      "source": [
        "chatbot.get_response('será que vale a pena estudar')"
      ],
      "execution_count": null,
      "outputs": []
    }
  ]
}