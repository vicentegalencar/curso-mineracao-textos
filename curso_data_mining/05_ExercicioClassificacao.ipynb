{
  "nbformat": 4,
  "nbformat_minor": 0,
  "metadata": {
    "colab": {
      "name": "05-ExercicioClassificacao.ipynb",
      "provenance": [],
      "authorship_tag": "ABX9TyOPfrO/LuGlGLqJlo2kJcTI",
      "include_colab_link": true
    },
    "kernelspec": {
      "name": "python3",
      "display_name": "Python 3"
    }
  },
  "cells": [
    {
      "cell_type": "markdown",
      "metadata": {
        "id": "view-in-github",
        "colab_type": "text"
      },
      "source": [
        "<a href=\"https://colab.research.google.com/github/ufrpe-ensino/curso-mineracao-textos/blob/master/05_ExercicioClassificacao.ipynb\" target=\"_parent\"><img src=\"https://colab.research.google.com/assets/colab-badge.svg\" alt=\"Open In Colab\"/></a>"
      ]
    },
    {
      "cell_type": "markdown",
      "metadata": {
        "id": "YGfG7BHb-W-r",
        "colab_type": "text"
      },
      "source": [
        "# Exercício: Classificando Reviews de Roupas"
      ]
    },
    {
      "cell_type": "code",
      "metadata": {
        "id": "-3IMacGw8BP6",
        "colab_type": "code",
        "colab": {}
      },
      "source": [
        "import pandas as pd\n",
        "\n",
        "df = data = pd.read_csv(\"https://raw.githubusercontent.com/ufrpe-ensino/curso-mineracao-textos/master/data/ClothingReviews.csv\")\n",
        "df.head()"
      ],
      "execution_count": null,
      "outputs": []
    },
    {
      "cell_type": "markdown",
      "metadata": {
        "id": "mIcfqQGH-G_F",
        "colab_type": "text"
      },
      "source": [
        "Analise a distribuição das classes, indicadas na coluna `Class Name`"
      ]
    },
    {
      "cell_type": "code",
      "metadata": {
        "id": "I_NLk1Ev-qqF",
        "colab_type": "code",
        "colab": {}
      },
      "source": [
        "# sua resposta\n",
        "df['Class Name'].value_counts()"
      ],
      "execution_count": null,
      "outputs": []
    },
    {
      "cell_type": "markdown",
      "metadata": {
        "id": "uPzg6Wcs-1rl",
        "colab_type": "text"
      },
      "source": [
        "Analise a distribuição do comprimento dos reviews, plote um histograma (`DataFrame.plot.hist()`)"
      ]
    },
    {
      "cell_type": "code",
      "metadata": {
        "id": "UAiZekzx-0-N",
        "colab_type": "code",
        "colab": {}
      },
      "source": [
        "# sua resposta\n",
        "df['ReviewLenght'] = df['Review Text'].apply(lambda x: len(x))\n",
        "df['ReviewLenght'].plot.hist()"
      ],
      "execution_count": null,
      "outputs": []
    },
    {
      "cell_type": "markdown",
      "metadata": {
        "id": "Yfm1MeotAh4Z",
        "colab_type": "text"
      },
      "source": [
        "Aplique a função de encoding de rótulos categóricos do Sklearn ([LabelEncoder](https://scikit-learn.org/stable/modules/generated/sklearn.preprocessing.LabelEncoder.html)) para converter os rótulos de classe em numeros. Salve em uma coluna adicional no dataframe."
      ]
    },
    {
      "cell_type": "code",
      "metadata": {
        "id": "WkVpxbybA9fm",
        "colab_type": "code",
        "colab": {}
      },
      "source": [
        ""
      ],
      "execution_count": null,
      "outputs": []
    },
    {
      "cell_type": "markdown",
      "metadata": {
        "id": "w3oDZj-l8o-7",
        "colab_type": "text"
      },
      "source": [
        "Aplique o pipeline de pré-processamento utilizando o NLTK ou SpaCy (tokenização e remoção de stopwords), e em seguida, utilize as funções de transformação do Scikit-Learn para textos, utilizando os atributos de n-gramas para classificar os textos:\n",
        "```\n",
        "from sklearn.feature_extraction.text import TfidfVectorizer\n",
        "vectorizer = TfidfVectorizer(use_idf=True)\n",
        "```\n",
        "No qual você pode passar os valores de intervalos de n-gramas:\n",
        "- um intervalo de ngram de (1, 1) significa apenas unigramas\n",
        "- (1, 2) significa unigramas e bigrams \n",
        "- (2, 2) significa apenas bigrams"
      ]
    },
    {
      "cell_type": "code",
      "metadata": {
        "id": "4jWJ-CsH_2KV",
        "colab_type": "code",
        "colab": {}
      },
      "source": [
        ""
      ],
      "execution_count": null,
      "outputs": []
    },
    {
      "cell_type": "markdown",
      "metadata": {
        "id": "rvhV-u3N_2Wo",
        "colab_type": "text"
      },
      "source": [
        "Separe o conjunto em treino e teste. Utilize a função `sklearn.model_selection.train_test_split()`"
      ]
    },
    {
      "cell_type": "code",
      "metadata": {
        "id": "rpg1zl1gAHlD",
        "colab_type": "code",
        "colab": {}
      },
      "source": [
        ""
      ],
      "execution_count": null,
      "outputs": []
    },
    {
      "cell_type": "markdown",
      "metadata": {
        "id": "Wuh4HvH9AH03",
        "colab_type": "text"
      },
      "source": [
        "Treine um modelo com o algoritmo `NaiveBayes`, e salve as predições para o conjunto de testes na variável `preds`"
      ]
    },
    {
      "cell_type": "code",
      "metadata": {
        "id": "Sirb-mtbAR7H",
        "colab_type": "code",
        "colab": {}
      },
      "source": [
        "preds = []"
      ],
      "execution_count": null,
      "outputs": []
    },
    {
      "cell_type": "markdown",
      "metadata": {
        "id": "AExPjo0p_vjJ",
        "colab_type": "text"
      },
      "source": [
        "Analise os resultados das predições"
      ]
    },
    {
      "cell_type": "code",
      "metadata": {
        "id": "hwO2v9gmAYuW",
        "colab_type": "code",
        "colab": {}
      },
      "source": [
        "from sklearn import metrics\n",
        "print(metrics.classification_report(preds, df['Class Name']))"
      ],
      "execution_count": null,
      "outputs": []
    },
    {
      "cell_type": "markdown",
      "metadata": {
        "id": "Fp25T82nBDgo",
        "colab_type": "text"
      },
      "source": [
        "Discuta os resultados. "
      ]
    },
    {
      "cell_type": "code",
      "metadata": {
        "id": "ZccK0slbBNLH",
        "colab_type": "code",
        "colab": {}
      },
      "source": [
        ""
      ],
      "execution_count": null,
      "outputs": []
    }
  ]
}