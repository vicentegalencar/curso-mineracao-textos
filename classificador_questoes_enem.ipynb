{
 "cells": [
  {
   "cell_type": "markdown",
   "metadata": {},
   "source": [
    "## Rotulando as questões do ENEM DIGITAL\n",
    "Descrição do desafio\n",
    "Com base nas provas digitais do ENEM, originalmente disponibilizadas no site do INEP.\n",
    "\n",
    "O objetivo é classificar as perguntas com base se pertence ao bloco Ciências Humanas e suas Tecnologias representado na base como 1 , ou demais áreas do conhecimento representado como 0.\n",
    "\n",
    "Será disponibilizado uma base de treino para que vocês possam criar seus classificadores de texto.\n",
    "\n",
    "A base está organizada de forma:\n",
    "\n",
    "75% do conjunto de dados foram reservados para treino\n",
    "25% do conjunto de dado foram reservados para teste"
   ]
  },
  {
   "cell_type": "code",
   "execution_count": null,
   "metadata": {},
   "outputs": [],
   "source": []
  }
 ],
 "metadata": {
  "kernelspec": {
   "display_name": "Python 3",
   "language": "python",
   "name": "python3"
  },
  "language_info": {
   "codemirror_mode": {
    "name": "ipython",
    "version": 3
   },
   "file_extension": ".py",
   "mimetype": "text/x-python",
   "name": "python",
   "nbconvert_exporter": "python",
   "pygments_lexer": "ipython3",
   "version": "3.11.9"
  }
 },
 "nbformat": 4,
 "nbformat_minor": 2
}
